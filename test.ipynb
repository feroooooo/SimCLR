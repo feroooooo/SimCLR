{
 "cells": [
  {
   "cell_type": "code",
   "execution_count": null,
   "metadata": {},
   "outputs": [],
   "source": [
    "import torch\n",
    "import torch.backends.cudnn as cudnn\n",
    "from torchvision import models\n",
    "from data_aug.contrastive_learning_dataset import ContrastiveLearningDataset\n",
    "from models.resnet_simclr import ResNetSimCLR\n",
    "from simclr import SimCLR"
   ]
  },
  {
   "cell_type": "code",
   "execution_count": null,
   "metadata": {},
   "outputs": [],
   "source": [
    "import argparse\n",
    "args = argparse.Namespace()\n",
    "args.device = torch.device(\"cuda\" if torch.cuda.is_available() else \"cpu\")\n",
    "args.batch_size = 4\n",
    "args.n_views = 2\n",
    "args.temperature = 0.07\n",
    "args.fp16_precision = False\n",
    "args.arch = 'resnet18'\n",
    "args.log_every_n_steps = 100\n",
    "args.epochs = 1\n",
    "args.disable_cuda = not torch.cuda.is_available()\n",
    "args"
   ]
  },
  {
   "cell_type": "code",
   "execution_count": null,
   "metadata": {},
   "outputs": [],
   "source": [
    "dataset = ContrastiveLearningDataset(\"./datasets\")\n",
    "train_dataset = dataset.get_dataset(\"stl10\", args.n_views)\n",
    "train_loader = torch.utils.data.DataLoader(train_dataset, batch_size=args.batch_size, shuffle=True, pin_memory=True, drop_last=True)"
   ]
  },
  {
   "cell_type": "code",
   "execution_count": null,
   "metadata": {},
   "outputs": [],
   "source": [
    "# 同一张图像经过两次随机的数据增强得到的正样本对\n",
    "print(train_dataset[0][0][0].shape)\n",
    "print(train_dataset[0][0][1].shape)\n",
    "# unlabeled数据，label无意义\n",
    "print(train_dataset[0][1])\n",
    "\n",
    "from torchvision.transforms.functional import to_pil_image\n",
    "from IPython.display import display\n",
    "# 调整张量维度以符合 matplotlib 的期望格式：[高度, 宽度, 通道数]\n",
    "image_pil = to_pil_image(train_dataset[0][0][0])\n",
    "display(image_pil)\n",
    "image_pil = to_pil_image(train_dataset[0][0][1])\n",
    "display(image_pil)"
   ]
  },
  {
   "cell_type": "code",
   "execution_count": null,
   "metadata": {},
   "outputs": [],
   "source": [
    "model = ResNetSimCLR(base_model=\"resnet18\", out_dim=128)\n",
    "\n",
    "optimizer = torch.optim.Adam(model.parameters(), lr=0.0003, weight_decay=1e-4)\n",
    "\n",
    "scheduler = torch.optim.lr_scheduler.CosineAnnealingLR(optimizer, T_max=len(train_loader), eta_min=0, last_epoch=-1)\n",
    "\n",
    "gpu_index = 0\n",
    "if torch.cuda.is_available():\n",
    "    device = torch.device('cuda')\n",
    "else:\n",
    "    device = torch.device('cpu')\n",
    "    gpu_index = -1\n",
    "#  It’s a no-op if the 'gpu_index' argument is a negative integer or None.\n",
    "with torch.cuda.device(gpu_index):\n",
    "    simclr = SimCLR(model=model, optimizer=optimizer, scheduler=scheduler, args=args)\n",
    "    simclr.train(train_loader)"
   ]
  },
  {
   "cell_type": "code",
   "execution_count": null,
   "metadata": {},
   "outputs": [],
   "source": [
    "import torch.nn.functional as F\n",
    "def info_nce_loss(features):\n",
    "\n",
    "    labels = torch.cat([torch.arange(args.batch_size) for i in range(args.n_views)], dim=0)\n",
    "    labels = (labels.unsqueeze(0) == labels.unsqueeze(1)).float()\n",
    "    labels = labels.to(args.device)\n",
    "\n",
    "    features = F.normalize(features, dim=1)\n",
    "\n",
    "    similarity_matrix = torch.matmul(features, features.T)\n",
    "    # assert similarity_matrix.shape == (\n",
    "    #     self.args.n_views * self.args.batch_size, self.args.n_views * self.args.batch_size)\n",
    "    # assert similarity_matrix.shape == labels.shape\n",
    "\n",
    "    # discard the main diagonal from both: labels and similarities matrix\n",
    "    mask = torch.eye(labels.shape[0], dtype=torch.bool).to(args.device)\n",
    "    labels = labels[~mask].view(labels.shape[0], -1)\n",
    "    similarity_matrix = similarity_matrix[~mask].view(similarity_matrix.shape[0], -1)\n",
    "    # assert similarity_matrix.shape == labels.shape\n",
    "\n",
    "    # select and combine multiple positives\n",
    "    positives = similarity_matrix[labels.bool()].view(labels.shape[0], -1)\n",
    "\n",
    "    # select only the negatives the negatives\n",
    "    negatives = similarity_matrix[~labels.bool()].view(similarity_matrix.shape[0], -1)\n",
    "\n",
    "    logits = torch.cat([positives, negatives], dim=1)\n",
    "    labels = torch.zeros(logits.shape[0], dtype=torch.long).to(args.device)\n",
    "\n",
    "    logits = logits / args.temperature\n",
    "    return logits, labels"
   ]
  },
  {
   "cell_type": "code",
   "execution_count": null,
   "metadata": {},
   "outputs": [],
   "source": [
    "features = torch.randn(args.batch_size * 2, 128)\n",
    "logits, labels = info_nce_loss(features)\n",
    "print(logits)\n",
    "print(labels)"
   ]
  },
  {
   "cell_type": "code",
   "execution_count": null,
   "metadata": {},
   "outputs": [],
   "source": [
    "features = torch.randn(args.batch_size * 2, 128)\n",
    "\n",
    "labels = torch.cat([torch.arange(args.batch_size) for i in range(args.n_views)], dim=0)\n",
    "print(labels.shape)\n",
    "labels = (labels.unsqueeze(0) == labels.unsqueeze(1)).float()\n",
    "labels = labels.to(args.device)\n",
    "print('labels:', labels.shape)\n",
    "print(labels)\n",
    "features = F.normalize(features, dim=1)\n",
    "\n",
    "similarity_matrix = torch.matmul(features, features.T)\n",
    "# assert similarity_matrix.shape == (\n",
    "#     self.args.n_views * self.args.batch_size, self.args.n_views * self.args.batch_size)\n",
    "# assert similarity_matrix.shape == labels.shape\n",
    "print('similarity_matrix:', similarity_matrix.shape)\n",
    "print(similarity_matrix)\n",
    "\n",
    "# discard the main diagonal from both: labels and similarities matrix\n",
    "mask = torch.eye(labels.shape[0], dtype=torch.bool).to(args.device)\n",
    "print(mask)\n",
    "labels = labels[~mask].view(labels.shape[0], -1)\n",
    "print(labels)\n",
    "similarity_matrix = similarity_matrix[~mask].view(similarity_matrix.shape[0], -1)\n",
    "print(similarity_matrix)\n",
    "# assert similarity_matrix.shape == labels.shape\n",
    "\n",
    "# select and combine multiple positives\n",
    "positives = similarity_matrix[labels.bool()].view(labels.shape[0], -1)\n",
    "print(positives)\n",
    "\n",
    "# select only the negatives the negatives\n",
    "negatives = similarity_matrix[~labels.bool()].view(similarity_matrix.shape[0], -1)\n",
    "print(negatives)\n",
    "\n",
    "logits = torch.cat([positives, negatives], dim=1)\n",
    "labels = torch.zeros(logits.shape[0], dtype=torch.long).to(args.device)\n",
    "print(logits)\n",
    "print(labels)\n",
    "\n",
    "logits = logits / args.temperature"
   ]
  },
  {
   "cell_type": "code",
   "execution_count": null,
   "metadata": {},
   "outputs": [],
   "source": []
  }
 ],
 "metadata": {
  "kernelspec": {
   "display_name": "simclr",
   "language": "python",
   "name": "python3"
  },
  "language_info": {
   "codemirror_mode": {
    "name": "ipython",
    "version": 3
   },
   "file_extension": ".py",
   "mimetype": "text/x-python",
   "name": "python",
   "nbconvert_exporter": "python",
   "pygments_lexer": "ipython3",
   "version": "3.8.18"
  }
 },
 "nbformat": 4,
 "nbformat_minor": 2
}
